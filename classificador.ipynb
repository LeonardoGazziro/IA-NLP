{
 "cells": [
  {
   "cell_type": "markdown",
   "metadata": {
    "colab_type": "text",
    "id": "HqWEVVMozhTD"
   },
   "source": [
    "# Processamento de linguagem natural\n",
    "\n",
    "Utilizando **Python** e as bilbiotecas **NLTK**, **SciKitLearn**, **Pandas** e **NumPy** temos a implementação de um sistema para análise de sentimento que permite classificar um texto em 3 polaridades, sendo elas **positivo**, **negativo** e **neutro**.\n"
   ]
  },
  {
   "cell_type": "code",
   "execution_count": 1,
   "metadata": {
    "colab": {},
    "colab_type": "code",
    "id": "fH7Waziyzffd"
   },
   "outputs": [],
   "source": [
    "import csv\n",
    "import io\n",
    "import numpy as np\n",
    "import pandas as pd\n",
    "from matplotlib import pyplot as plt\n",
    "import nltk\n",
    "from nltk.corpus import stopwords\n",
    "from nltk.tokenize import word_tokenize\n",
    "from nltk import FreqDist\n",
    "from nltk.classify.scikitlearn import SklearnClassifier\n",
    "from sklearn.preprocessing import LabelEncoder\n",
    "from sklearn import model_selection\n",
    "from sklearn.svm import SVC\n",
    "from sklearn.neighbors import KNeighborsClassifier\n",
    "from sklearn.tree import DecisionTreeClassifier\n",
    "from sklearn.ensemble import VotingClassifier\n",
    "from sklearn.linear_model import LogisticRegression, SGDClassifier\n",
    "from sklearn.naive_bayes import MultinomialNB\n",
    "from sklearn.metrics import classification_report,  confusion_matrix"
   ]
  },
  {
   "cell_type": "markdown",
   "metadata": {},
   "source": [
    "**OBSERVAÇÃO**\n",
    "O NLTK não é instalado com seus pacotes adicionais, alguns módulos vão gerar uma exceção, para resolver esse problema execute a linha abaixo: \n",
    "\n",
    "nltk.download('all')\n",
    "\n",
    "Assim todos os pacotes do NLTK serão instalados."
   ]
  },
  {
   "cell_type": "markdown",
   "metadata": {
    "colab_type": "text",
    "id": "XN9hdutPT8vr"
   },
   "source": [
    "A lista **Names** tem o nome de todos os algoritmos que serão testados, já a lista **classifiers** tem a lista dos algoritmos, importados do ***sklearn*** que serão usados.\n",
    "\n",
    "A variável **models** recebe uma lista de tuplas, sendo que a tupla contém o nome do classificar e o classificador.\n"
   ]
  },
  {
   "cell_type": "code",
   "execution_count": 2,
   "metadata": {
    "colab": {},
    "colab_type": "code",
    "id": "ZcrvC6FxFj3T"
   },
   "outputs": [],
   "source": [
    "    names = ['K Nearest Neighbors', 'Decision Tree', 'Logistic Regression', 'SGD Classifier',\n",
    "             'Naive Bayes', 'SVM Linear']\n",
    "\n",
    "    classifiers = [\n",
    "        KNeighborsClassifier(),\n",
    "        DecisionTreeClassifier(),\n",
    "        LogisticRegression(solver='lbfgs', multi_class='auto'),\n",
    "        SGDClassifier(max_iter=100),\n",
    "        MultinomialNB(),\n",
    "        SVC(kernel='linear')\n",
    "    ]\n",
    "    \n",
    "    models = list(zip(names, classifiers))"
   ]
  },
  {
   "cell_type": "markdown",
   "metadata": {
    "colab_type": "text",
    "id": "YumoxPyq7pzy"
   },
   "source": [
    " Vamos extrair as palavras contidas na lista de stopwords do NLTK para poder manipula-las."
   ]
  },
  {
   "cell_type": "code",
   "execution_count": 3,
   "metadata": {
    "colab": {},
    "colab_type": "code",
    "id": "WyiY6pU20dEZ"
   },
   "outputs": [],
   "source": [
    "stopwords_nltk = stopwords.words('portuguese')\n",
    "stopwords_nltk.append('vou')\n",
    "stopwords_nltk.append('tão')\n",
    "stopwords_nltk.append('vai')\n",
    "stopwords_nltk.append('é')\n",
    "stopwords_nltk.append('mãe')\n",
    "stopwords_nltk.append('malu')\n",
    "stopwords_nltk.append('sheldon')\n",
    "stopwords_nltk.append('thalita')\n",
    "stopwords_nltk.append('rebouças')\n",
    "stopwords_nltk.append('sidney')\n",
    "stopwords_nltk.append('pai')"
   ]
  },
  {
   "cell_type": "markdown",
   "metadata": {
    "colab_type": "text",
    "id": "sjCHisQ59Hnk"
   },
   "source": [
    "### Stopwords\n",
    "\n",
    "***Stopwords*** são palavras que retiramos do texto porque não possuem influência no resultado do processamento, isso melhora o desempenho no momento do processamento. Como exemplo podemos citar as palavras 'a', 'o', 'com' e outras.\n",
    "\n",
    "### Stemmer\n",
    "\n",
    "***Stemmer*** é o processo aplicado para deixar apenas os radicais das palavras, dessa forma ao processar o texto as palavras como 'porta' e 'portas' serão consideradas como a mesma palavra."
   ]
  },
  {
   "cell_type": "markdown",
   "metadata": {
    "colab_type": "text",
    "id": "Vtn4sHhL-nwW"
   },
   "source": [
    "Abaixo temos a função que aplica o stemmer do próprio NLTK, remove pontuações e remove as stopwods.\n"
   ]
  },
  {
   "cell_type": "code",
   "execution_count": 4,
   "metadata": {
    "colab": {},
    "colab_type": "code",
    "id": "y3wFMgYe9HJI"
   },
   "outputs": [],
   "source": [
    "def apply_stemmer(text):\n",
    "    '''\n",
    "    Aplica o stemmer ao texto passado.\n",
    "    :param text: Lista com todos os textos.\n",
    "    :return: retorna as frases sem stopwords e com stemmer aplicado.\n",
    "    '''\n",
    "    stemmer = nltk.stem.RSLPStemmer()\n",
    "    phrases_stemmer = []\n",
    "    for (words, emotion) in text:\n",
    "        words = words.lower().strip()\n",
    "        words = words.replace('!', '')\n",
    "        words = words.replace(',', '')\n",
    "        words = words.replace('?', '')\n",
    "        words = words.replace(':', '')\n",
    "        comstemmer = [str(stemmer.stem(p)) for p in words.split() if p not in stopwords_nltk]\n",
    "        phrases_stemmer.append((' '.join(comstemmer), emotion))\n",
    "    return phrases_stemmer"
   ]
  },
  {
   "cell_type": "code",
   "execution_count": 5,
   "metadata": {
    "colab": {},
    "colab_type": "code",
    "id": "zphOwBWBDcd2"
   },
   "outputs": [],
   "source": [
    "def open_corpus():\n",
    "    '''\n",
    "    Abre o arquivo que contém o corpus utilizado.\n",
    "    :return: Retorna a lista com a frase e o sentimento.\n",
    "    '''\n",
    "    with io.open('data_base.csv', 'r', encoding='iso-8859-15') as csv_file:\n",
    "        csv_reader = csv.reader(csv_file, delimiter=';')\n",
    "        header = True\n",
    "        data = []\n",
    "        for row in csv_reader:\n",
    "            if header:\n",
    "                header = False\n",
    "            else:\n",
    "                t = row[0], row[1]\n",
    "                data.append(t)\n",
    "\n",
    "    return data"
   ]
  },
  {
   "cell_type": "code",
   "execution_count": 6,
   "metadata": {
    "colab": {},
    "colab_type": "code",
    "id": "mC-7XTPSFa9j"
   },
   "outputs": [],
   "source": [
    "def create_bag_of_words(messages):\n",
    "    '''\n",
    "    Cria a bag of words utilizando a lista de frases passada.\n",
    "    :param messages: lista com as mensagens.\n",
    "    :return: retorna a bag of words com a frequência de cada palavra.\n",
    "    '''\n",
    "    all_words = []\n",
    "\n",
    "    for word in messages:\n",
    "        words = word_tokenize(word)\n",
    "        for w in words:\n",
    "            all_words.append(w)\n",
    "\n",
    "    return FreqDist(all_words)"
   ]
  },
  {
   "cell_type": "code",
   "execution_count": 7,
   "metadata": {
    "colab": {},
    "colab_type": "code",
    "id": "dw76zMJ9RIpV"
   },
   "outputs": [],
   "source": [
    "def find_features(text):\n",
    "    '''\n",
    "    Cria as features.\n",
    "    :param text: lista com os textos.\n",
    "    :return: retorna a lista com as features.\n",
    "    '''\n",
    "    words = word_tokenize(text)\n",
    "    features = {}\n",
    "    for word in words:\n",
    "        features[word] = (word in words)\n",
    "\n",
    "    return features"
   ]
  },
  {
   "cell_type": "code",
   "execution_count": 8,
   "metadata": {
    "colab": {},
    "colab_type": "code",
    "id": "D7TU8mC-HmM3"
   },
   "outputs": [],
   "source": [
    "def data_to_classify():\n",
    "    '''\n",
    "    Extrai do arquivo txt os dados que serão classificados.\n",
    "    :return: retorna a lista com  todas as frases.\n",
    "    '''\n",
    "    text = []\n",
    "    arq = open('classificar.txt', 'r', encoding='iso-8859-15')\n",
    "    for line in arq.readlines():\n",
    "\n",
    "        text.append(line.strip())\n",
    "\n",
    "    text_features = [find_features(text) for text in text]\n",
    "\n",
    "    arq.close()\n",
    "    return text_features"
   ]
  },
  {
   "cell_type": "markdown",
   "metadata": {
    "colab_type": "text",
    "id": "rXAae_KmLgYn"
   },
   "source": [
    "Em seguida vamos criar o data frame com o Pandas e transformar os labels em valores binários."
   ]
  },
  {
   "cell_type": "code",
   "execution_count": 9,
   "metadata": {
    "colab": {
     "base_uri": "https://localhost:8080/",
     "height": 35
    },
    "colab_type": "code",
    "id": "XO-fkc2C-5wg",
    "outputId": "be6c173b-1d81-4c48-ac54-3f0c000ddec2"
   },
   "outputs": [],
   "source": [
    "data = open_corpus()\n",
    "\n",
    "# cria um data frame\n",
    "df = pd.DataFrame(apply_stemmer(data))\n",
    "messages, classes = df[0], df[1]  # define as classes, segunda coluna.\n",
    "\n",
    "encoder = LabelEncoder()  # Cria o label encoder\n",
    "# transforma os labels das classes em um valor binario\n",
    "Y = encoder.fit_transform(classes)"
   ]
  },
  {
   "cell_type": "markdown",
   "metadata": {},
   "source": [
    "Vamos transformar os labels das classes em um valor binário, esse processo diminui o espaço de memoria utilizado.\n",
    "Podemos ver isso utilizando as seguintes linhas:\n",
    "<code>\n",
    "from sys import getsizeof\n",
    "print(f'Uso de memória sem converte: {getsizeof(classes)}')\n",
    "print(f'Uso de memória com converção: {getsizeof(Y)}')\n",
    "</code>"
   ]
  },
  {
   "cell_type": "markdown",
   "metadata": {
    "colab_type": "text",
    "id": "x8_p4waCMJR6"
   },
   "source": [
    "### Bag of Words\n",
    "A Bag of Words é uma coleção de palavras que são encontra nos textos, neste caso a bag of words foi criada após a remoção de stopwords e *aplicação* do *stemmer*."
   ]
  },
  {
   "cell_type": "code",
   "execution_count": 10,
   "metadata": {
    "colab": {},
    "colab_type": "code",
    "id": "ypRIRKN3_D-z"
   },
   "outputs": [],
   "source": [
    "# criando a Bag of Words\n",
    "all_words = create_bag_of_words(messages)"
   ]
  },
  {
   "cell_type": "code",
   "execution_count": 11,
   "metadata": {
    "colab": {
     "base_uri": "https://localhost:8080/",
     "height": 73
    },
    "colab_type": "code",
    "id": "jJSzS6NN_NNC",
    "outputId": "6c816041-e64f-4b3b-dbaf-e33ee56894df"
   },
   "outputs": [
    {
     "name": "stdout",
     "output_type": "stream",
     "text": [
      "Número de palavras: 1560\n",
      "Palavras mais comuns: [('livr', 219), ('histór', 64), ('tod', 54), ('ser', 38), ('person', 38), ('leit', 38), ('fal', 36), ('gost', 35), ('ler', 34), ('cont', 32), ('ach', 32), ('outr', 30), ('mund', 29), ('bem', 29), ('amig', 29), ('li', 29), ('pra', 28), ('bom', 26), ('prim', 25), ('vid', 25)]\n"
     ]
    }
   ],
   "source": [
    "print(f'Número de palavras: {len(all_words)}')\n",
    "print(f'Palavras mais comuns: {all_words.most_common(20)}')"
   ]
  },
  {
   "cell_type": "code",
   "execution_count": 12,
   "metadata": {
    "colab": {},
    "colab_type": "code",
    "id": "TG2wB7dZ_YVx"
   },
   "outputs": [],
   "source": [
    "word_features = list(all_words.keys())\n",
    "\n",
    "messages = list(zip(messages, Y))"
   ]
  },
  {
   "cell_type": "markdown",
   "metadata": {
    "colab_type": "text",
    "id": "zuwJEGVBctFh"
   },
   "source": [
    "Neste ponto vamos executar os algoritmos selecionados até obter a acurácia maior que 65 %."
   ]
  },
  {
   "cell_type": "markdown",
   "metadata": {
    "colab_type": "text",
    "id": "zK3sykHoUkJE"
   },
   "source": [
    "O **nltk_ensemble** recebe uma instancia de *SklearnClassifier* que utiliza a classe *VotingClassifier*, onde é passado models no parâmetro estimators. Esse código faz que todos os algoritmos de models sejam executados e aquele com a melhor accuracy será retornado."
   ]
  },
  {
   "cell_type": "code",
   "execution_count": 13,
   "metadata": {
    "colab": {
     "base_uri": "https://localhost:8080/",
     "height": 106
    },
    "colab_type": "code",
    "id": "8ZgK60FQ_hM9",
    "outputId": "8b2cba73-c1b7-4f56-c536-40913826468d"
   },
   "outputs": [
    {
     "name": "stdout",
     "output_type": "stream",
     "text": [
      "1 60.91954022988506\n",
      "2 52.87356321839081\n",
      "3 62.06896551724138\n",
      "4 50.57471264367817\n",
      "5 62.06896551724138\n",
      "6 51.724137931034484\n",
      "7 56.32183908045977\n",
      "8 62.06896551724138\n",
      "9 59.77011494252874\n",
      "10 64.36781609195403\n",
      "11 62.06896551724138\n",
      "12 60.91954022988506\n",
      "13 60.91954022988506\n",
      "14 51.724137931034484\n",
      "15 63.2183908045977\n",
      "16 58.620689655172406\n",
      "17 54.02298850574713\n",
      "18 65.51724137931035\n"
     ]
    }
   ],
   "source": [
    "best_accuracy = 0\n",
    "cont = 0\n",
    "\n",
    "while best_accuracy < 65:\n",
    "    # Randomiza as mensagens para que a base de teste e treino seja sempre diferente\n",
    "    seed = 1\n",
    "    np.random.seed = seed\n",
    "    np.random.shuffle(messages)\n",
    "    \n",
    "    # Cria o featureset.\n",
    "    featuresets = [(find_features(text), label) for (text, label) in messages]\n",
    "    \n",
    "    # divide a base deixando 85% para treino e 15% para teste\n",
    "    training, test = model_selection.train_test_split(featuresets, test_size=0.15, random_state=seed)\n",
    "    \n",
    "    # cria e executa tods os algoritmos contidos no models em seguida seleciona o algoritmo com maior accuracy\n",
    "    nltk_ensemble = SklearnClassifier(VotingClassifier(estimators=models, voting='hard', n_jobs=-1))\n",
    "    nltk_ensemble.train(training)\n",
    "\n",
    "    accuracy = nltk.classify.accuracy(nltk_ensemble, test) * 100  # valor do melhor accuracy obtido\n",
    "    cont += 1  # contador de execuções\n",
    "    print(cont, accuracy)\n",
    "\n",
    "    if accuracy > best_accuracy:\n",
    "        best_accuracy = accuracy\n",
    "        best_training = training\n"
   ]
  },
  {
   "cell_type": "code",
   "execution_count": 14,
   "metadata": {
    "colab": {
     "base_uri": "https://localhost:8080/",
     "height": 35
    },
    "colab_type": "code",
    "id": "RpNTVhBF_41n",
    "outputId": "db7b3c55-858c-4d28-c06c-683b37ed2f55"
   },
   "outputs": [
    {
     "name": "stdout",
     "output_type": "stream",
     "text": [
      "Classificador votado: Accuracy: 65.51724137931035\n"
     ]
    }
   ],
   "source": [
    "print(f'Classificador votado: Accuracy: {accuracy}')"
   ]
  },
  {
   "cell_type": "code",
   "execution_count": 15,
   "metadata": {
    "colab": {},
    "colab_type": "code",
    "id": "qhD-KGpg_9hn"
   },
   "outputs": [],
   "source": [
    "txt_features, labels = list(zip(*test))\n",
    "\n",
    "prediction = nltk_ensemble.classify_many(txt_features)"
   ]
  },
  {
   "cell_type": "markdown",
   "metadata": {
    "colab_type": "text",
    "id": "Qese3PDzE7w6"
   },
   "source": [
    "Em seguida temos a impressão da precisão de acerto de cada uma das classes."
   ]
  },
  {
   "cell_type": "code",
   "execution_count": 16,
   "metadata": {
    "colab": {
     "base_uri": "https://localhost:8080/",
     "height": 196
    },
    "colab_type": "code",
    "id": "MaCNq-4AABdq",
    "outputId": "e6376fd7-7e1e-41c1-87f1-baf032385512"
   },
   "outputs": [
    {
     "name": "stdout",
     "output_type": "stream",
     "text": [
      "              precision    recall  f1-score   support\n",
      "\n",
      "           0       0.50      0.62      0.55        21\n",
      "           1       0.67      0.53      0.59        30\n",
      "           2       0.76      0.78      0.77        36\n",
      "\n",
      "    accuracy                           0.66        87\n",
      "   macro avg       0.64      0.64      0.64        87\n",
      "weighted avg       0.66      0.66      0.66        87\n",
      "\n"
     ]
    }
   ],
   "source": [
    "print(classification_report(labels, prediction))"
   ]
  },
  {
   "cell_type": "markdown",
   "metadata": {
    "colab_type": "text",
    "id": "r9zWiPDvWo8F"
   },
   "source": [
    "O DataFrame imprime a Matriz de Confusão que mostra os erros do classificador."
   ]
  },
  {
   "cell_type": "code",
   "execution_count": 17,
   "metadata": {
    "colab": {
     "base_uri": "https://localhost:8080/",
     "height": 175
    },
    "colab_type": "code",
    "id": "snPexmf6AFFv",
    "outputId": "e3cb7794-2f5d-4757-d223-74671b257dbf"
   },
   "outputs": [
    {
     "data": {
      "text/html": [
       "<div>\n",
       "<style scoped>\n",
       "    .dataframe tbody tr th:only-of-type {\n",
       "        vertical-align: middle;\n",
       "    }\n",
       "\n",
       "    .dataframe tbody tr th {\n",
       "        vertical-align: top;\n",
       "    }\n",
       "\n",
       "    .dataframe thead tr th {\n",
       "        text-align: left;\n",
       "    }\n",
       "</style>\n",
       "<table border=\"1\" class=\"dataframe\">\n",
       "  <thead>\n",
       "    <tr>\n",
       "      <th></th>\n",
       "      <th></th>\n",
       "      <th colspan=\"3\" halign=\"left\">predicted</th>\n",
       "    </tr>\n",
       "    <tr>\n",
       "      <th></th>\n",
       "      <th></th>\n",
       "      <th>pos</th>\n",
       "      <th>neg</th>\n",
       "      <th>neu</th>\n",
       "    </tr>\n",
       "  </thead>\n",
       "  <tbody>\n",
       "    <tr>\n",
       "      <th rowspan=\"3\" valign=\"top\">actual</th>\n",
       "      <th>pos</th>\n",
       "      <td>13</td>\n",
       "      <td>4</td>\n",
       "      <td>4</td>\n",
       "    </tr>\n",
       "    <tr>\n",
       "      <th>neg</th>\n",
       "      <td>9</td>\n",
       "      <td>16</td>\n",
       "      <td>5</td>\n",
       "    </tr>\n",
       "    <tr>\n",
       "      <th>neu</th>\n",
       "      <td>4</td>\n",
       "      <td>4</td>\n",
       "      <td>28</td>\n",
       "    </tr>\n",
       "  </tbody>\n",
       "</table>\n",
       "</div>"
      ],
      "text/plain": [
       "           predicted        \n",
       "                 pos neg neu\n",
       "actual pos        13   4   4\n",
       "       neg         9  16   5\n",
       "       neu         4   4  28"
      ]
     },
     "execution_count": 17,
     "metadata": {},
     "output_type": "execute_result"
    }
   ],
   "source": [
    "pd.DataFrame(\n",
    "        confusion_matrix(labels, prediction),\n",
    "        index=[['actual', 'actual', 'actual'],\n",
    "               ['pos', 'neg', 'neu']],\n",
    "        columns=[['predicted', 'predicted', 'predicted'],\n",
    "                 ['pos', 'neg', 'neu']]\n",
    "    )"
   ]
  },
  {
   "cell_type": "markdown",
   "metadata": {
    "colab_type": "text",
    "id": "bwJJQ68Ad9ol"
   },
   "source": [
    "Com os dados treinados vamos executar o algoritmo na base que será classificada."
   ]
  },
  {
   "cell_type": "code",
   "execution_count": 18,
   "metadata": {
    "colab": {},
    "colab_type": "code",
    "id": "2DuR0-iJHAFt"
   },
   "outputs": [],
   "source": [
    "# função data_to_classify retorna o featureset dos dados extraidos do arquivo txt\n",
    "text_features = data_to_classify()\n",
    "\n",
    "# executa o algoritmo para classificar cada frase\n",
    "text_prediction = nltk_ensemble.classify_many(text_features)"
   ]
  },
  {
   "cell_type": "markdown",
   "metadata": {
    "colab_type": "text",
    "id": "DYkVNtBqepZG"
   },
   "source": [
    "Com o resultado da classificação é criado um dicionário para contar a quantidade de cada uma das polaridades."
   ]
  },
  {
   "cell_type": "code",
   "execution_count": 19,
   "metadata": {
    "colab": {
     "base_uri": "https://localhost:8080/",
     "height": 106
    },
    "colab_type": "code",
    "id": "uVbr8-IyHt1S",
    "outputId": "f3aa7403-6db6-43be-8c38-09c86a24e3d3"
   },
   "outputs": [
    {
     "name": "stdout",
     "output_type": "stream",
     "text": [
      "{'pos': 12, 'neu': 15, 'neg': 3}\n",
      "[2, 2, 1, 1, 1, 1, 0, 2, 2, 1, 2, 0, 1, 1, 1, 2, 2, 2, 1, 2, 0, 2, 1, 1, 1, 2, 1, 1, 1, 2]\n",
      "['pos' 'pos' 'neu' 'neu' 'neu' 'neu' 'neg' 'pos' 'pos' 'neu' 'pos' 'neg'\n",
      " 'neu' 'neu' 'neu' 'pos' 'pos' 'pos' 'neu' 'pos' 'neg' 'pos' 'neu' 'neu'\n",
      " 'neu' 'pos' 'neu' 'neu' 'neu' 'pos']\n"
     ]
    }
   ],
   "source": [
    "text_dict = {}\n",
    "\n",
    "for val in encoder.inverse_transform(text_prediction):\n",
    "    if val in text_dict:\n",
    "        text_dict[val] += 1\n",
    "    else:\n",
    "        text_dict[val] = 1\n",
    "    \n",
    "print(text_dict)\n",
    "\n",
    "print(text_prediction)\n",
    "print(encoder.inverse_transform(text_prediction))"
   ]
  },
  {
   "cell_type": "markdown",
   "metadata": {
    "colab_type": "text",
    "id": "ffBZKxbjfaFQ"
   },
   "source": [
    "Logo abaixo temos o gráfico de pizza que indica a porcentagem de cada polaridade."
   ]
  },
  {
   "cell_type": "code",
   "execution_count": 20,
   "metadata": {
    "colab": {
     "base_uri": "https://localhost:8080/",
     "height": 255
    },
    "colab_type": "code",
    "id": "sJq1TzFRHwuZ",
    "outputId": "d2a3a481-817f-4360-fafa-3ade98e35015"
   },
   "outputs": [
    {
     "data": {
      "image/png": "[encoded data removed]",
      "text/plain": [
       "<Figure size 432x288 with 1 Axes>"
      ]
     },
     "metadata": {},
     "output_type": "display_data"
    }
   ],
   "source": [
    "colors = ['yellowgreen', 'lightcoral', 'lightskyblue']\n",
    "plt.pie(text_dict.values(), labels=text_dict.keys(), colors=colors,\n",
    "   autopct='%1.1f%%', shadow=True, startangle=140)\n",
    "\n",
    "plt.show()"
   ]
  },
  {
   "cell_type": "code",
   "execution_count": null,
   "metadata": {},
   "outputs": [],
   "source": []
  }
 ],
 "metadata": {
  "accelerator": "GPU",
  "colab": {
   "name": "Mineração de sentimentos.ipynb",
   "provenance": [],
   "version": "0.3.2"
  },
  "kernelspec": {
   "display_name": "Python 3",
   "language": "python",
   "name": "python3"
  },
  "language_info": {
   "codemirror_mode": {
    "name": "ipython",
    "version": 3
   },
   "file_extension": ".py",
   "mimetype": "text/x-python",
   "name": "python",
   "nbconvert_exporter": "python",
   "pygments_lexer": "ipython3",
   "version": "3.7.1"
  }
 },
 "nbformat": 4,
 "nbformat_minor": 1
}
